{
 "cells": [
  {
   "cell_type": "code",
   "execution_count": 1,
   "id": "1dca3566",
   "metadata": {
    "_cell_guid": "b1076dfc-b9ad-4769-8c92-a6c4dae69d19",
    "_uuid": "8f2839f25d086af736a60e9eeb907d3b93b6e0e5",
    "execution": {
     "iopub.execute_input": "2025-06-27T11:09:06.701644Z",
     "iopub.status.busy": "2025-06-27T11:09:06.701281Z",
     "iopub.status.idle": "2025-06-27T11:09:11.101690Z",
     "shell.execute_reply": "2025-06-27T11:09:11.099957Z"
    },
    "papermill": {
     "duration": 4.409672,
     "end_time": "2025-06-27T11:09:11.103619",
     "exception": false,
     "start_time": "2025-06-27T11:09:06.693947",
     "status": "completed"
    },
    "tags": []
   },
   "outputs": [
    {
     "name": "stdout",
     "output_type": "stream",
     "text": [
      "/kaggle/input/updated-health-survey/Train_Data.csv\n",
      "/kaggle/input/updated-health-survey/Test_Data.csv\n"
     ]
    }
   ],
   "source": [
    "# This Python 3 environment comes with many helpful analytics libraries installed\n",
    "# It is defined by the kaggle/python Docker image: https://github.com/kaggle/docker-python\n",
    "# For example, here's several helpful packages to load\n",
    "\n",
    "import numpy as np # linear algebra\n",
    "import pandas as pd # data processing, CSV file I/O (e.g. pd.read_csv)\n",
    "import seaborn as sns\n",
    "import matplotlib.pyplot as plt\n",
    "# Input data files are available in the read-only \"../input/\" directory\n",
    "# For example, running this (by clicking run or pressing Shift+Enter) will list all files under the input directory\n",
    "\n",
    "import os\n",
    "for dirname, _, filenames in os.walk('/kaggle/input'):\n",
    "    for filename in filenames:\n",
    "        print(os.path.join(dirname, filename))\n",
    "\n",
    "# You can write up to 20GB to the current directory (/kaggle/working/) that gets preserved as output when you create a version using \"Save & Run All\" \n",
    "# You can also write temporary files to /kaggle/temp/, but they won't be saved outside of the current session"
   ]
  },
  {
   "cell_type": "code",
   "execution_count": 2,
   "id": "3dec5fb3",
   "metadata": {
    "execution": {
     "iopub.execute_input": "2025-06-27T11:09:11.115703Z",
     "iopub.status.busy": "2025-06-27T11:09:11.115203Z",
     "iopub.status.idle": "2025-06-27T11:09:11.176516Z",
     "shell.execute_reply": "2025-06-27T11:09:11.175129Z"
    },
    "papermill": {
     "duration": 0.070292,
     "end_time": "2025-06-27T11:09:11.178652",
     "exception": false,
     "start_time": "2025-06-27T11:09:11.108360",
     "status": "completed"
    },
    "tags": []
   },
   "outputs": [
    {
     "name": "stderr",
     "output_type": "stream",
     "text": [
      "/usr/local/lib/python3.11/dist-packages/pandas/io/formats/format.py:1458: RuntimeWarning: invalid value encountered in greater\n",
      "  has_large_values = (abs_vals > 1e6).any()\n",
      "/usr/local/lib/python3.11/dist-packages/pandas/io/formats/format.py:1459: RuntimeWarning: invalid value encountered in less\n",
      "  has_small_values = ((abs_vals < 10 ** (-self.digits)) & (abs_vals > 0)).any()\n",
      "/usr/local/lib/python3.11/dist-packages/pandas/io/formats/format.py:1459: RuntimeWarning: invalid value encountered in greater\n",
      "  has_small_values = ((abs_vals < 10 ** (-self.digits)) & (abs_vals > 0)).any()\n"
     ]
    },
    {
     "data": {
      "text/html": [
       "<div>\n",
       "<style scoped>\n",
       "    .dataframe tbody tr th:only-of-type {\n",
       "        vertical-align: middle;\n",
       "    }\n",
       "\n",
       "    .dataframe tbody tr th {\n",
       "        vertical-align: top;\n",
       "    }\n",
       "\n",
       "    .dataframe thead th {\n",
       "        text-align: right;\n",
       "    }\n",
       "</style>\n",
       "<table border=\"1\" class=\"dataframe\">\n",
       "  <thead>\n",
       "    <tr style=\"text-align: right;\">\n",
       "      <th></th>\n",
       "      <th>SEQN</th>\n",
       "      <th>RIAGENDR</th>\n",
       "      <th>PAQ605</th>\n",
       "      <th>BMXBMI</th>\n",
       "      <th>LBXGLU</th>\n",
       "      <th>DIQ010</th>\n",
       "      <th>LBXGLT</th>\n",
       "      <th>LBXIN</th>\n",
       "      <th>age_group</th>\n",
       "    </tr>\n",
       "  </thead>\n",
       "  <tbody>\n",
       "    <tr>\n",
       "      <th>0</th>\n",
       "      <td>73564.0</td>\n",
       "      <td>2.0</td>\n",
       "      <td>2.0</td>\n",
       "      <td>35.7</td>\n",
       "      <td>110.0</td>\n",
       "      <td>2.0</td>\n",
       "      <td>150.0</td>\n",
       "      <td>14.91</td>\n",
       "      <td>Adult</td>\n",
       "    </tr>\n",
       "    <tr>\n",
       "      <th>1</th>\n",
       "      <td>73568.0</td>\n",
       "      <td>2.0</td>\n",
       "      <td>2.0</td>\n",
       "      <td>20.3</td>\n",
       "      <td>89.0</td>\n",
       "      <td>2.0</td>\n",
       "      <td>80.0</td>\n",
       "      <td>3.85</td>\n",
       "      <td>Adult</td>\n",
       "    </tr>\n",
       "    <tr>\n",
       "      <th>2</th>\n",
       "      <td>73576.0</td>\n",
       "      <td>1.0</td>\n",
       "      <td>2.0</td>\n",
       "      <td>23.2</td>\n",
       "      <td>89.0</td>\n",
       "      <td>2.0</td>\n",
       "      <td>68.0</td>\n",
       "      <td>6.14</td>\n",
       "      <td>Adult</td>\n",
       "    </tr>\n",
       "    <tr>\n",
       "      <th>3</th>\n",
       "      <td>73577.0</td>\n",
       "      <td>1.0</td>\n",
       "      <td>2.0</td>\n",
       "      <td>28.9</td>\n",
       "      <td>104.0</td>\n",
       "      <td>NaN</td>\n",
       "      <td>84.0</td>\n",
       "      <td>16.15</td>\n",
       "      <td>Adult</td>\n",
       "    </tr>\n",
       "    <tr>\n",
       "      <th>4</th>\n",
       "      <td>73580.0</td>\n",
       "      <td>2.0</td>\n",
       "      <td>1.0</td>\n",
       "      <td>35.9</td>\n",
       "      <td>103.0</td>\n",
       "      <td>2.0</td>\n",
       "      <td>81.0</td>\n",
       "      <td>10.92</td>\n",
       "      <td>Adult</td>\n",
       "    </tr>\n",
       "  </tbody>\n",
       "</table>\n",
       "</div>"
      ],
      "text/plain": [
       "      SEQN  RIAGENDR  PAQ605  BMXBMI  LBXGLU  DIQ010  LBXGLT  LBXIN age_group\n",
       "0  73564.0       2.0     2.0    35.7   110.0     2.0   150.0  14.91     Adult\n",
       "1  73568.0       2.0     2.0    20.3    89.0     2.0    80.0   3.85     Adult\n",
       "2  73576.0       1.0     2.0    23.2    89.0     2.0    68.0   6.14     Adult\n",
       "3  73577.0       1.0     2.0    28.9   104.0     NaN    84.0  16.15     Adult\n",
       "4  73580.0       2.0     1.0    35.9   103.0     2.0    81.0  10.92     Adult"
      ]
     },
     "execution_count": 2,
     "metadata": {},
     "output_type": "execute_result"
    }
   ],
   "source": [
    "df = pd.read_csv(\"/kaggle/input/updated-health-survey/Train_Data.csv\")\n",
    "df.head()"
   ]
  },
  {
   "cell_type": "code",
   "execution_count": 3,
   "id": "cb859d49",
   "metadata": {
    "execution": {
     "iopub.execute_input": "2025-06-27T11:09:11.189957Z",
     "iopub.status.busy": "2025-06-27T11:09:11.189176Z",
     "iopub.status.idle": "2025-06-27T11:09:11.196647Z",
     "shell.execute_reply": "2025-06-27T11:09:11.195569Z"
    },
    "papermill": {
     "duration": 0.015001,
     "end_time": "2025-06-27T11:09:11.198391",
     "exception": false,
     "start_time": "2025-06-27T11:09:11.183390",
     "status": "completed"
    },
    "tags": []
   },
   "outputs": [
    {
     "data": {
      "text/plain": [
       "(1966, 9)"
      ]
     },
     "execution_count": 3,
     "metadata": {},
     "output_type": "execute_result"
    }
   ],
   "source": [
    "df.shape"
   ]
  },
  {
   "cell_type": "code",
   "execution_count": 4,
   "id": "726c1ebe",
   "metadata": {
    "execution": {
     "iopub.execute_input": "2025-06-27T11:09:11.211243Z",
     "iopub.status.busy": "2025-06-27T11:09:11.210889Z",
     "iopub.status.idle": "2025-06-27T11:09:11.221677Z",
     "shell.execute_reply": "2025-06-27T11:09:11.220372Z"
    },
    "papermill": {
     "duration": 0.018641,
     "end_time": "2025-06-27T11:09:11.223550",
     "exception": false,
     "start_time": "2025-06-27T11:09:11.204909",
     "status": "completed"
    },
    "tags": []
   },
   "outputs": [
    {
     "data": {
      "text/plain": [
       "SEQN         12\n",
       "RIAGENDR     18\n",
       "PAQ605       13\n",
       "BMXBMI       18\n",
       "LBXGLU       13\n",
       "DIQ010       18\n",
       "LBXGLT       11\n",
       "LBXIN         9\n",
       "age_group    14\n",
       "dtype: int64"
      ]
     },
     "execution_count": 4,
     "metadata": {},
     "output_type": "execute_result"
    }
   ],
   "source": [
    "df.isnull().sum()"
   ]
  },
  {
   "cell_type": "code",
   "execution_count": 5,
   "id": "36914481",
   "metadata": {
    "execution": {
     "iopub.execute_input": "2025-06-27T11:09:11.234268Z",
     "iopub.status.busy": "2025-06-27T11:09:11.233952Z",
     "iopub.status.idle": "2025-06-27T11:09:11.450471Z",
     "shell.execute_reply": "2025-06-27T11:09:11.449611Z"
    },
    "papermill": {
     "duration": 0.223857,
     "end_time": "2025-06-27T11:09:11.452213",
     "exception": false,
     "start_time": "2025-06-27T11:09:11.228356",
     "status": "completed"
    },
    "tags": []
   },
   "outputs": [],
   "source": [
    "from sklearn.preprocessing import LabelEncoder\n",
    "\n",
    "label = LabelEncoder()\n",
    "df.age_group = label.fit_transform(df.age_group)"
   ]
  },
  {
   "cell_type": "markdown",
   "id": "7ccca4a6",
   "metadata": {
    "papermill": {
     "duration": 0.004142,
     "end_time": "2025-06-27T11:09:11.461031",
     "exception": false,
     "start_time": "2025-06-27T11:09:11.456889",
     "status": "completed"
    },
    "tags": []
   },
   "source": [
    "**HANDLING MISSING VALUES(TRAINING DATASET)**"
   ]
  },
  {
   "cell_type": "markdown",
   "id": "480319e3",
   "metadata": {
    "papermill": {
     "duration": 0.004554,
     "end_time": "2025-06-27T11:09:11.470086",
     "exception": false,
     "start_time": "2025-06-27T11:09:11.465532",
     "status": "completed"
    },
    "tags": []
   },
   "source": [
    "1. Drop Rows\n"
   ]
  },
  {
   "cell_type": "code",
   "execution_count": 6,
   "id": "30cdebb5",
   "metadata": {
    "execution": {
     "iopub.execute_input": "2025-06-27T11:09:11.480608Z",
     "iopub.status.busy": "2025-06-27T11:09:11.480278Z",
     "iopub.status.idle": "2025-06-27T11:09:11.484799Z",
     "shell.execute_reply": "2025-06-27T11:09:11.483782Z"
    },
    "papermill": {
     "duration": 0.011784,
     "end_time": "2025-06-27T11:09:11.486311",
     "exception": false,
     "start_time": "2025-06-27T11:09:11.474527",
     "status": "completed"
    },
    "tags": []
   },
   "outputs": [],
   "source": [
    "#df = df.dropna(axis = 0)"
   ]
  },
  {
   "cell_type": "code",
   "execution_count": 7,
   "id": "fedfbe8c",
   "metadata": {
    "execution": {
     "iopub.execute_input": "2025-06-27T11:09:11.498459Z",
     "iopub.status.busy": "2025-06-27T11:09:11.497221Z",
     "iopub.status.idle": "2025-06-27T11:09:11.656691Z",
     "shell.execute_reply": "2025-06-27T11:09:11.655509Z"
    },
    "papermill": {
     "duration": 0.167336,
     "end_time": "2025-06-27T11:09:11.658690",
     "exception": false,
     "start_time": "2025-06-27T11:09:11.491354",
     "status": "completed"
    },
    "tags": []
   },
   "outputs": [],
   "source": [
    "from sklearn.model_selection import train_test_split\n",
    "X = df.drop(['age_group','SEQN'],axis = 1)\n",
    "y = df.age_group\n",
    "X_train,X_valid,y_train,y_valid = train_test_split(X,y,test_size = 0.2)"
   ]
  },
  {
   "cell_type": "markdown",
   "id": "aab6a0b0",
   "metadata": {
    "papermill": {
     "duration": 0.004129,
     "end_time": "2025-06-27T11:09:11.667696",
     "exception": false,
     "start_time": "2025-06-27T11:09:11.663567",
     "status": "completed"
    },
    "tags": []
   },
   "source": [
    "2. Simple Imputing"
   ]
  },
  {
   "cell_type": "code",
   "execution_count": 8,
   "id": "75b934d8",
   "metadata": {
    "execution": {
     "iopub.execute_input": "2025-06-27T11:09:11.678659Z",
     "iopub.status.busy": "2025-06-27T11:09:11.678305Z",
     "iopub.status.idle": "2025-06-27T11:09:12.002952Z",
     "shell.execute_reply": "2025-06-27T11:09:12.001480Z"
    },
    "papermill": {
     "duration": 0.332311,
     "end_time": "2025-06-27T11:09:12.005013",
     "exception": false,
     "start_time": "2025-06-27T11:09:11.672702",
     "status": "completed"
    },
    "tags": []
   },
   "outputs": [],
   "source": [
    "from sklearn.impute import SimpleImputer \n",
    "\n",
    "imputer = SimpleImputer()\n",
    "imp_X_train = pd.DataFrame(imputer.fit_transform(X_train))\n",
    "imp_X_valid = pd.DataFrame(imputer.transform(X_valid))\n",
    "imp_X_train.columns = X_train.columns\n",
    "imp_X_valid.columns = X_valid.columns"
   ]
  },
  {
   "cell_type": "markdown",
   "id": "43ff58c6",
   "metadata": {
    "papermill": {
     "duration": 0.008584,
     "end_time": "2025-06-27T11:09:12.020237",
     "exception": false,
     "start_time": "2025-06-27T11:09:12.011653",
     "status": "completed"
    },
    "tags": []
   },
   "source": [
    "3. KNN imputing\n"
   ]
  },
  {
   "cell_type": "code",
   "execution_count": null,
   "id": "235ccb81",
   "metadata": {
    "papermill": {
     "duration": 0.004346,
     "end_time": "2025-06-27T11:09:12.030173",
     "exception": false,
     "start_time": "2025-06-27T11:09:12.025827",
     "status": "completed"
    },
    "tags": []
   },
   "outputs": [],
   "source": []
  },
  {
   "cell_type": "code",
   "execution_count": 9,
   "id": "a7943c34",
   "metadata": {
    "execution": {
     "iopub.execute_input": "2025-06-27T11:09:12.042918Z",
     "iopub.status.busy": "2025-06-27T11:09:12.042419Z",
     "iopub.status.idle": "2025-06-27T11:09:12.463740Z",
     "shell.execute_reply": "2025-06-27T11:09:12.462060Z"
    },
    "papermill": {
     "duration": 0.430007,
     "end_time": "2025-06-27T11:09:12.465613",
     "exception": false,
     "start_time": "2025-06-27T11:09:12.035606",
     "status": "completed"
    },
    "tags": []
   },
   "outputs": [
    {
     "data": {
      "text/html": [
       "<style>#sk-container-id-1 {color: black;background-color: white;}#sk-container-id-1 pre{padding: 0;}#sk-container-id-1 div.sk-toggleable {background-color: white;}#sk-container-id-1 label.sk-toggleable__label {cursor: pointer;display: block;width: 100%;margin-bottom: 0;padding: 0.3em;box-sizing: border-box;text-align: center;}#sk-container-id-1 label.sk-toggleable__label-arrow:before {content: \"▸\";float: left;margin-right: 0.25em;color: #696969;}#sk-container-id-1 label.sk-toggleable__label-arrow:hover:before {color: black;}#sk-container-id-1 div.sk-estimator:hover label.sk-toggleable__label-arrow:before {color: black;}#sk-container-id-1 div.sk-toggleable__content {max-height: 0;max-width: 0;overflow: hidden;text-align: left;background-color: #f0f8ff;}#sk-container-id-1 div.sk-toggleable__content pre {margin: 0.2em;color: black;border-radius: 0.25em;background-color: #f0f8ff;}#sk-container-id-1 input.sk-toggleable__control:checked~div.sk-toggleable__content {max-height: 200px;max-width: 100%;overflow: auto;}#sk-container-id-1 input.sk-toggleable__control:checked~label.sk-toggleable__label-arrow:before {content: \"▾\";}#sk-container-id-1 div.sk-estimator input.sk-toggleable__control:checked~label.sk-toggleable__label {background-color: #d4ebff;}#sk-container-id-1 div.sk-label input.sk-toggleable__control:checked~label.sk-toggleable__label {background-color: #d4ebff;}#sk-container-id-1 input.sk-hidden--visually {border: 0;clip: rect(1px 1px 1px 1px);clip: rect(1px, 1px, 1px, 1px);height: 1px;margin: -1px;overflow: hidden;padding: 0;position: absolute;width: 1px;}#sk-container-id-1 div.sk-estimator {font-family: monospace;background-color: #f0f8ff;border: 1px dotted black;border-radius: 0.25em;box-sizing: border-box;margin-bottom: 0.5em;}#sk-container-id-1 div.sk-estimator:hover {background-color: #d4ebff;}#sk-container-id-1 div.sk-parallel-item::after {content: \"\";width: 100%;border-bottom: 1px solid gray;flex-grow: 1;}#sk-container-id-1 div.sk-label:hover label.sk-toggleable__label {background-color: #d4ebff;}#sk-container-id-1 div.sk-serial::before {content: \"\";position: absolute;border-left: 1px solid gray;box-sizing: border-box;top: 0;bottom: 0;left: 50%;z-index: 0;}#sk-container-id-1 div.sk-serial {display: flex;flex-direction: column;align-items: center;background-color: white;padding-right: 0.2em;padding-left: 0.2em;position: relative;}#sk-container-id-1 div.sk-item {position: relative;z-index: 1;}#sk-container-id-1 div.sk-parallel {display: flex;align-items: stretch;justify-content: center;background-color: white;position: relative;}#sk-container-id-1 div.sk-item::before, #sk-container-id-1 div.sk-parallel-item::before {content: \"\";position: absolute;border-left: 1px solid gray;box-sizing: border-box;top: 0;bottom: 0;left: 50%;z-index: -1;}#sk-container-id-1 div.sk-parallel-item {display: flex;flex-direction: column;z-index: 1;position: relative;background-color: white;}#sk-container-id-1 div.sk-parallel-item:first-child::after {align-self: flex-end;width: 50%;}#sk-container-id-1 div.sk-parallel-item:last-child::after {align-self: flex-start;width: 50%;}#sk-container-id-1 div.sk-parallel-item:only-child::after {width: 0;}#sk-container-id-1 div.sk-dashed-wrapped {border: 1px dashed gray;margin: 0 0.4em 0.5em 0.4em;box-sizing: border-box;padding-bottom: 0.4em;background-color: white;}#sk-container-id-1 div.sk-label label {font-family: monospace;font-weight: bold;display: inline-block;line-height: 1.2em;}#sk-container-id-1 div.sk-label-container {text-align: center;}#sk-container-id-1 div.sk-container {/* jupyter's `normalize.less` sets `[hidden] { display: none; }` but bootstrap.min.css set `[hidden] { display: none !important; }` so we also need the `!important` here to be able to override the default hidden behavior on the sphinx rendered scikit-learn.org. See: https://github.com/scikit-learn/scikit-learn/issues/21755 */display: inline-block !important;position: relative;}#sk-container-id-1 div.sk-text-repr-fallback {display: none;}</style><div id=\"sk-container-id-1\" class=\"sk-top-container\"><div class=\"sk-text-repr-fallback\"><pre>RandomForestClassifier(n_estimators=40)</pre><b>In a Jupyter environment, please rerun this cell to show the HTML representation or trust the notebook. <br />On GitHub, the HTML representation is unable to render, please try loading this page with nbviewer.org.</b></div><div class=\"sk-container\" hidden><div class=\"sk-item\"><div class=\"sk-estimator sk-toggleable\"><input class=\"sk-toggleable__control sk-hidden--visually\" id=\"sk-estimator-id-1\" type=\"checkbox\" checked><label for=\"sk-estimator-id-1\" class=\"sk-toggleable__label sk-toggleable__label-arrow\">RandomForestClassifier</label><div class=\"sk-toggleable__content\"><pre>RandomForestClassifier(n_estimators=40)</pre></div></div></div></div></div>"
      ],
      "text/plain": [
       "RandomForestClassifier(n_estimators=40)"
      ]
     },
     "execution_count": 9,
     "metadata": {},
     "output_type": "execute_result"
    }
   ],
   "source": [
    "from sklearn.ensemble import RandomForestClassifier\n",
    "model = RandomForestClassifier(n_estimators = 40)\n",
    "model.fit(imp_X_train,y_train)"
   ]
  },
  {
   "cell_type": "code",
   "execution_count": 10,
   "id": "e7bff57f",
   "metadata": {
    "execution": {
     "iopub.execute_input": "2025-06-27T11:09:12.480563Z",
     "iopub.status.busy": "2025-06-27T11:09:12.480157Z",
     "iopub.status.idle": "2025-06-27T11:09:12.498192Z",
     "shell.execute_reply": "2025-06-27T11:09:12.497059Z"
    },
    "papermill": {
     "duration": 0.026669,
     "end_time": "2025-06-27T11:09:12.500050",
     "exception": false,
     "start_time": "2025-06-27T11:09:12.473381",
     "status": "completed"
    },
    "tags": []
   },
   "outputs": [
    {
     "data": {
      "text/plain": [
       "0.8045685279187818"
      ]
     },
     "execution_count": 10,
     "metadata": {},
     "output_type": "execute_result"
    }
   ],
   "source": [
    "model.score(imp_X_valid,y_valid)"
   ]
  },
  {
   "cell_type": "code",
   "execution_count": 11,
   "id": "d3f76417",
   "metadata": {
    "execution": {
     "iopub.execute_input": "2025-06-27T11:09:12.511703Z",
     "iopub.status.busy": "2025-06-27T11:09:12.511356Z",
     "iopub.status.idle": "2025-06-27T11:09:12.537306Z",
     "shell.execute_reply": "2025-06-27T11:09:12.535199Z"
    },
    "papermill": {
     "duration": 0.0342,
     "end_time": "2025-06-27T11:09:12.539194",
     "exception": false,
     "start_time": "2025-06-27T11:09:12.504994",
     "status": "completed"
    },
    "tags": []
   },
   "outputs": [
    {
     "data": {
      "text/html": [
       "<div>\n",
       "<style scoped>\n",
       "    .dataframe tbody tr th:only-of-type {\n",
       "        vertical-align: middle;\n",
       "    }\n",
       "\n",
       "    .dataframe tbody tr th {\n",
       "        vertical-align: top;\n",
       "    }\n",
       "\n",
       "    .dataframe thead th {\n",
       "        text-align: right;\n",
       "    }\n",
       "</style>\n",
       "<table border=\"1\" class=\"dataframe\">\n",
       "  <thead>\n",
       "    <tr style=\"text-align: right;\">\n",
       "      <th></th>\n",
       "      <th>SEQN</th>\n",
       "      <th>RIAGENDR</th>\n",
       "      <th>PAQ605</th>\n",
       "      <th>BMXBMI</th>\n",
       "      <th>LBXGLU</th>\n",
       "      <th>DIQ010</th>\n",
       "      <th>LBXGLT</th>\n",
       "      <th>LBXIN</th>\n",
       "    </tr>\n",
       "  </thead>\n",
       "  <tbody>\n",
       "    <tr>\n",
       "      <th>0</th>\n",
       "      <td>77017.0</td>\n",
       "      <td>1.0</td>\n",
       "      <td>1.0</td>\n",
       "      <td>32.2</td>\n",
       "      <td>96.0</td>\n",
       "      <td>2.0</td>\n",
       "      <td>135.0</td>\n",
       "      <td>15.11</td>\n",
       "    </tr>\n",
       "    <tr>\n",
       "      <th>1</th>\n",
       "      <td>75580.0</td>\n",
       "      <td>2.0</td>\n",
       "      <td>2.0</td>\n",
       "      <td>26.3</td>\n",
       "      <td>100.0</td>\n",
       "      <td>2.0</td>\n",
       "      <td>141.0</td>\n",
       "      <td>15.26</td>\n",
       "    </tr>\n",
       "    <tr>\n",
       "      <th>2</th>\n",
       "      <td>73820.0</td>\n",
       "      <td>1.0</td>\n",
       "      <td>2.0</td>\n",
       "      <td>28.6</td>\n",
       "      <td>107.0</td>\n",
       "      <td>2.0</td>\n",
       "      <td>136.0</td>\n",
       "      <td>8.82</td>\n",
       "    </tr>\n",
       "    <tr>\n",
       "      <th>3</th>\n",
       "      <td>80489.0</td>\n",
       "      <td>2.0</td>\n",
       "      <td>1.0</td>\n",
       "      <td>22.1</td>\n",
       "      <td>93.0</td>\n",
       "      <td>2.0</td>\n",
       "      <td>111.0</td>\n",
       "      <td>12.13</td>\n",
       "    </tr>\n",
       "    <tr>\n",
       "      <th>4</th>\n",
       "      <td>82047.0</td>\n",
       "      <td>1.0</td>\n",
       "      <td>1.0</td>\n",
       "      <td>24.7</td>\n",
       "      <td>91.0</td>\n",
       "      <td>2.0</td>\n",
       "      <td>105.0</td>\n",
       "      <td>3.12</td>\n",
       "    </tr>\n",
       "  </tbody>\n",
       "</table>\n",
       "</div>"
      ],
      "text/plain": [
       "      SEQN  RIAGENDR  PAQ605  BMXBMI  LBXGLU  DIQ010  LBXGLT  LBXIN\n",
       "0  77017.0       1.0     1.0    32.2    96.0     2.0   135.0  15.11\n",
       "1  75580.0       2.0     2.0    26.3   100.0     2.0   141.0  15.26\n",
       "2  73820.0       1.0     2.0    28.6   107.0     2.0   136.0   8.82\n",
       "3  80489.0       2.0     1.0    22.1    93.0     2.0   111.0  12.13\n",
       "4  82047.0       1.0     1.0    24.7    91.0     2.0   105.0   3.12"
      ]
     },
     "execution_count": 11,
     "metadata": {},
     "output_type": "execute_result"
    }
   ],
   "source": [
    "df_test = pd.read_csv(\"/kaggle/input/updated-health-survey/Test_Data.csv\")\n",
    "df_test.head()"
   ]
  },
  {
   "cell_type": "code",
   "execution_count": 12,
   "id": "554aef26",
   "metadata": {
    "execution": {
     "iopub.execute_input": "2025-06-27T11:09:12.553145Z",
     "iopub.status.busy": "2025-06-27T11:09:12.552808Z",
     "iopub.status.idle": "2025-06-27T11:09:12.559242Z",
     "shell.execute_reply": "2025-06-27T11:09:12.557838Z"
    },
    "papermill": {
     "duration": 0.01573,
     "end_time": "2025-06-27T11:09:12.561267",
     "exception": false,
     "start_time": "2025-06-27T11:09:12.545537",
     "status": "completed"
    },
    "tags": []
   },
   "outputs": [],
   "source": [
    "X_test = df_test.drop(\"SEQN\",axis = 1)"
   ]
  },
  {
   "cell_type": "code",
   "execution_count": 13,
   "id": "bebb5687",
   "metadata": {
    "execution": {
     "iopub.execute_input": "2025-06-27T11:09:12.576986Z",
     "iopub.status.busy": "2025-06-27T11:09:12.575773Z",
     "iopub.status.idle": "2025-06-27T11:09:12.587167Z",
     "shell.execute_reply": "2025-06-27T11:09:12.585817Z"
    },
    "papermill": {
     "duration": 0.022867,
     "end_time": "2025-06-27T11:09:12.589608",
     "exception": false,
     "start_time": "2025-06-27T11:09:12.566741",
     "status": "completed"
    },
    "tags": []
   },
   "outputs": [],
   "source": [
    "from sklearn.impute import SimpleImputer\n",
    "\n",
    "my_imputer = SimpleImputer()\n",
    "# Your code here\n",
    "imputed_X_test = pd.DataFrame(my_imputer.fit_transform(X_test))\n",
    "\n",
    "# Fill in the lines below: imputation removed column names; put them back\n",
    "imputed_X_test.columns = X_test.columns\n"
   ]
  },
  {
   "cell_type": "code",
   "execution_count": 14,
   "id": "f5d76e27",
   "metadata": {
    "execution": {
     "iopub.execute_input": "2025-06-27T11:09:12.605878Z",
     "iopub.status.busy": "2025-06-27T11:09:12.605468Z",
     "iopub.status.idle": "2025-06-27T11:09:12.617433Z",
     "shell.execute_reply": "2025-06-27T11:09:12.615910Z"
    },
    "papermill": {
     "duration": 0.023384,
     "end_time": "2025-06-27T11:09:12.619385",
     "exception": false,
     "start_time": "2025-06-27T11:09:12.596001",
     "status": "completed"
    },
    "tags": []
   },
   "outputs": [
    {
     "data": {
      "text/plain": [
       "RIAGENDR    0\n",
       "PAQ605      0\n",
       "BMXBMI      0\n",
       "LBXGLU      0\n",
       "DIQ010      0\n",
       "LBXGLT      0\n",
       "LBXIN       0\n",
       "dtype: int64"
      ]
     },
     "execution_count": 14,
     "metadata": {},
     "output_type": "execute_result"
    }
   ],
   "source": [
    "imputed_X_test.isnull().sum()"
   ]
  },
  {
   "cell_type": "code",
   "execution_count": 15,
   "id": "7f27a1a2",
   "metadata": {
    "execution": {
     "iopub.execute_input": "2025-06-27T11:09:12.634192Z",
     "iopub.status.busy": "2025-06-27T11:09:12.633837Z",
     "iopub.status.idle": "2025-06-27T11:09:12.648625Z",
     "shell.execute_reply": "2025-06-27T11:09:12.647639Z"
    },
    "papermill": {
     "duration": 0.025864,
     "end_time": "2025-06-27T11:09:12.650702",
     "exception": false,
     "start_time": "2025-06-27T11:09:12.624838",
     "status": "completed"
    },
    "tags": []
   },
   "outputs": [],
   "source": [
    "y_predictions = model.predict(imputed_X_test)"
   ]
  },
  {
   "cell_type": "code",
   "execution_count": 16,
   "id": "9f6fb3fc",
   "metadata": {
    "execution": {
     "iopub.execute_input": "2025-06-27T11:09:12.664273Z",
     "iopub.status.busy": "2025-06-27T11:09:12.663649Z",
     "iopub.status.idle": "2025-06-27T11:09:12.676517Z",
     "shell.execute_reply": "2025-06-27T11:09:12.674654Z"
    },
    "papermill": {
     "duration": 0.022274,
     "end_time": "2025-06-27T11:09:12.678267",
     "exception": false,
     "start_time": "2025-06-27T11:09:12.655993",
     "status": "completed"
    },
    "tags": []
   },
   "outputs": [
    {
     "data": {
      "text/plain": [
       "array([0, 0, 0, 0, 0, 0, 0, 0, 0, 0, 1, 0, 0, 0, 1, 0, 0, 0, 0, 0, 1, 0,\n",
       "       0, 0, 0, 0, 0, 0, 0, 0, 0, 0, 0, 1, 0, 0, 0, 0, 0, 0, 0, 0, 0, 0,\n",
       "       0, 0, 0, 1, 0, 0, 0, 0, 0, 0, 0, 0, 0, 0, 0, 1, 0, 0, 0, 0, 0, 0,\n",
       "       0, 1, 0, 0, 0, 0, 0, 0, 0, 0, 0, 0, 0, 0, 0, 0, 0, 0, 0, 0, 0, 0,\n",
       "       0, 0, 0, 0, 0, 0, 0, 1, 0, 0, 0, 0, 0, 0, 0, 0, 0, 0, 0, 0, 0, 0,\n",
       "       0, 0, 0, 0, 0, 0, 0, 0, 0, 0, 0, 0, 0, 0, 0, 0, 0, 0, 0, 0, 0, 0,\n",
       "       0, 0, 0, 0, 0, 0, 0, 0, 0, 0, 0, 0, 0, 0, 0, 0, 0, 0, 0, 0, 0, 0,\n",
       "       0, 0, 0, 0, 0, 0, 0, 0, 0, 1, 0, 0, 0, 0, 0, 0, 0, 0, 1, 0, 0, 0,\n",
       "       0, 0, 0, 0, 0, 0, 0, 0, 0, 0, 0, 0, 0, 0, 0, 0, 0, 0, 0, 0, 0, 0,\n",
       "       0, 1, 0, 0, 0, 0, 0, 0, 0, 0, 0, 0, 0, 0, 0, 0, 0, 0, 0, 0, 0, 0,\n",
       "       0, 0, 0, 0, 0, 0, 0, 0, 0, 0, 0, 0, 0, 0, 0, 0, 0, 0, 0, 0, 0, 0,\n",
       "       0, 0, 0, 0, 0, 0, 0, 0, 0, 0, 0, 0, 0, 0, 0, 0, 0, 0, 1, 0, 0, 1,\n",
       "       0, 0, 0, 0, 0, 1, 0, 0, 0, 0, 0, 0, 0, 0, 0, 0, 0, 0, 0, 0, 0, 0,\n",
       "       0, 1, 0, 0, 0, 0, 0, 0, 0, 0, 0, 0, 0, 0, 0, 0, 0, 0, 0, 0, 0, 0,\n",
       "       0, 0, 0, 0])"
      ]
     },
     "execution_count": 16,
     "metadata": {},
     "output_type": "execute_result"
    }
   ],
   "source": [
    "y_predictions"
   ]
  },
  {
   "cell_type": "code",
   "execution_count": 17,
   "id": "f1d7a29d",
   "metadata": {
    "execution": {
     "iopub.execute_input": "2025-06-27T11:09:12.693651Z",
     "iopub.status.busy": "2025-06-27T11:09:12.693346Z",
     "iopub.status.idle": "2025-06-27T11:09:12.709878Z",
     "shell.execute_reply": "2025-06-27T11:09:12.708794Z"
    },
    "papermill": {
     "duration": 0.027394,
     "end_time": "2025-06-27T11:09:12.712386",
     "exception": false,
     "start_time": "2025-06-27T11:09:12.684992",
     "status": "completed"
    },
    "tags": []
   },
   "outputs": [],
   "source": [
    "output = pd.DataFrame({'age_group':y_predictions})\n",
    "output.to_csv('submission.csv', index=False)"
   ]
  },
  {
   "cell_type": "code",
   "execution_count": null,
   "id": "ee776e5b",
   "metadata": {
    "papermill": {
     "duration": 0.005146,
     "end_time": "2025-06-27T11:09:12.723778",
     "exception": false,
     "start_time": "2025-06-27T11:09:12.718632",
     "status": "completed"
    },
    "tags": []
   },
   "outputs": [],
   "source": []
  }
 ],
 "metadata": {
  "kaggle": {
   "accelerator": "none",
   "dataSources": [
    {
     "datasetId": 7728774,
     "sourceId": 12264884,
     "sourceType": "datasetVersion"
    }
   ],
   "dockerImageVersionId": 31040,
   "isGpuEnabled": false,
   "isInternetEnabled": true,
   "language": "python",
   "sourceType": "notebook"
  },
  "kernelspec": {
   "display_name": "Python 3",
   "language": "python",
   "name": "python3"
  },
  "language_info": {
   "codemirror_mode": {
    "name": "ipython",
    "version": 3
   },
   "file_extension": ".py",
   "mimetype": "text/x-python",
   "name": "python",
   "nbconvert_exporter": "python",
   "pygments_lexer": "ipython3",
   "version": "3.11.11"
  },
  "papermill": {
   "default_parameters": {},
   "duration": 12.110091,
   "end_time": "2025-06-27T11:09:13.553273",
   "environment_variables": {},
   "exception": null,
   "input_path": "__notebook__.ipynb",
   "output_path": "__notebook__.ipynb",
   "parameters": {},
   "start_time": "2025-06-27T11:09:01.443182",
   "version": "2.6.0"
  }
 },
 "nbformat": 4,
 "nbformat_minor": 5
}
